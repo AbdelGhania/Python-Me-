{
 "cells": [
  {
   "cell_type": "code",
   "execution_count": 6,
   "metadata": {
    "scrolled": false
   },
   "outputs": [
    {
     "name": "stdout",
     "output_type": "stream",
     "text": [
      "\n",
      "\n",
      "Election Results\n",
      "--------------------\n",
      "Total Votes: 3521001\n",
      "--------------------\n",
      "Khan: 63.000% (2218231) \n",
      "\n",
      "Correy: 20.000% (704200) \n",
      "\n",
      "Li: 14.000% (492940) \n",
      "\n",
      "O'Tooley: 3.000% (105630) \n",
      "\n",
      "-----------------------------\n",
      "Winner: Khan\n",
      "-----------------------------\n",
      "\n"
     ]
    }
   ],
   "source": [
    "# PyPoll\n",
    "# incorporated the dependencies\n",
    "\n",
    "import csv\n",
    "import os \n",
    "\n",
    "\n",
    "# file to load and output \n",
    "\n",
    "\n",
    "file_to_load = os.path.join(\"election_data.csv\")\n",
    "file_to_output = os.path.join(\"election_analysis.txt\")\n",
    "\n",
    "\n",
    "# Total vote counter \n",
    "total_votes = 0\n",
    "\n",
    "# Candidates options and vote counter \n",
    "\n",
    "\n",
    "candidate_options = []\n",
    "candidate_votes = { }\n",
    "\n",
    "# Winning Candidate and Winning Count Tracker\n",
    "winning_candidate = \"\"\n",
    "winning_count = 0\n",
    "\n",
    "\n",
    "# Read the CSV and convert it into a list \n",
    "\n",
    "with open(file_to_load) as election_data:\n",
    "    reader = csv.reader(election_data)\n",
    "    \n",
    "    # Read the Header\n",
    "    header = next(reader)\n",
    "    \n",
    "    for row in reader:\n",
    "        \n",
    "        \n",
    "        # Run the loader animation \n",
    "        # print(\". \", end = \"\")\n",
    "        \n",
    "        # add to total vote count \n",
    "        \n",
    "        total_votes = total_votes + 1\n",
    "        \n",
    "        # Extract Candidate Name From each Row\n",
    "        candidate_name =row[2]\n",
    "        \n",
    "        # if the candidate doesn't match any existing candidate .....\n",
    "        # (In a way our loop is discovering candidates as it goes)\n",
    "        \n",
    "        if candidate_name not in candidate_options: \n",
    "            # Add it to the list of candidates in the running\n",
    "            candidate_options.append(candidate_name)\n",
    "            # Being tracking that candidate vote count\n",
    "            candidate_votes[candidate_name] = 0\n",
    "            \n",
    "        candidate_votes[candidate_name] = candidate_votes[candidate_name] + 1\n",
    "        \n",
    "with open(file_to_output, \"w\") as txt_file:\n",
    "    # Print The Final Vote Count\n",
    "    \n",
    "    \n",
    "    election_results = (\n",
    "        \n",
    "        f\"\\n\\nElection Results\\n\"\n",
    "        f\"--------------------\\n\"\n",
    "        f\"Total Votes: {total_votes}\\n\"\n",
    "        f\"--------------------\\n\"\n",
    "        \n",
    "    )\n",
    "        \n",
    "    print(election_results, end = \"\")\n",
    "    \n",
    "    \n",
    "    # Save File vote Count to text file\n",
    "    \n",
    "    txt_file.write(election_results)\n",
    "    \n",
    "    \n",
    "    # determine the winner by looping through the counts for candidate in candidate-votes\n",
    "    for candidate in candidate_votes:\n",
    "        \n",
    "        # Retrieve vote count and percentage \n",
    "        votes = candidate_votes.get(candidate)\n",
    "        votes_percentage = float(votes) / float(total_votes) *100\n",
    "        \n",
    "        # determine winning vote count and candidate\n",
    "        if(votes > winning_count):\n",
    "            winning_count = votes\n",
    "            winning_candidate = candidate\n",
    "        \n",
    "        # print each candidate's voter count and percentage\n",
    "        voter_output = f\"{candidate}: {votes_percentage:.3f}% ({votes}) \\n\"\n",
    "        \n",
    "        print(voter_output)\n",
    "        \n",
    "        txt_file.write(voter_output)\n",
    "        \n",
    "    # print the winning candidates \n",
    "    winning_candidate_summary = (\n",
    "        f\"-----------------------------\\n\"\n",
    "        f\"Winner: {winning_candidate}\\n\"\n",
    "        f\"-----------------------------\\n\"\n",
    "    )\n",
    "    \n",
    "    print(winning_candidate_summary)\n",
    "    \n",
    "    #save the winning candidate name to txt file \n",
    "    txt_file.write(winning_candidate_summary)\n"
   ]
  },
  {
   "cell_type": "code",
   "execution_count": null,
   "metadata": {},
   "outputs": [],
   "source": []
  },
  {
   "cell_type": "code",
   "execution_count": null,
   "metadata": {},
   "outputs": [],
   "source": []
  },
  {
   "cell_type": "code",
   "execution_count": null,
   "metadata": {},
   "outputs": [],
   "source": []
  },
  {
   "cell_type": "code",
   "execution_count": null,
   "metadata": {},
   "outputs": [],
   "source": []
  },
  {
   "cell_type": "code",
   "execution_count": null,
   "metadata": {},
   "outputs": [],
   "source": []
  },
  {
   "cell_type": "code",
   "execution_count": null,
   "metadata": {},
   "outputs": [],
   "source": []
  },
  {
   "cell_type": "code",
   "execution_count": null,
   "metadata": {},
   "outputs": [],
   "source": []
  },
  {
   "cell_type": "code",
   "execution_count": null,
   "metadata": {},
   "outputs": [],
   "source": []
  },
  {
   "cell_type": "code",
   "execution_count": null,
   "metadata": {},
   "outputs": [],
   "source": []
  },
  {
   "cell_type": "code",
   "execution_count": null,
   "metadata": {},
   "outputs": [],
   "source": []
  },
  {
   "cell_type": "code",
   "execution_count": null,
   "metadata": {},
   "outputs": [],
   "source": []
  },
  {
   "cell_type": "code",
   "execution_count": null,
   "metadata": {},
   "outputs": [],
   "source": []
  },
  {
   "cell_type": "code",
   "execution_count": null,
   "metadata": {},
   "outputs": [],
   "source": []
  },
  {
   "cell_type": "code",
   "execution_count": null,
   "metadata": {},
   "outputs": [],
   "source": []
  },
  {
   "cell_type": "code",
   "execution_count": null,
   "metadata": {},
   "outputs": [],
   "source": []
  },
  {
   "cell_type": "code",
   "execution_count": null,
   "metadata": {},
   "outputs": [],
   "source": []
  },
  {
   "cell_type": "code",
   "execution_count": null,
   "metadata": {},
   "outputs": [],
   "source": []
  },
  {
   "cell_type": "code",
   "execution_count": null,
   "metadata": {},
   "outputs": [],
   "source": []
  },
  {
   "cell_type": "code",
   "execution_count": null,
   "metadata": {},
   "outputs": [],
   "source": []
  },
  {
   "cell_type": "code",
   "execution_count": null,
   "metadata": {},
   "outputs": [],
   "source": []
  }
 ],
 "metadata": {
  "kernelspec": {
   "display_name": "Python 3.7.4 64-bit ('base': conda)",
   "language": "python",
   "name": "python37464bitbasecondad7af2cd298c8452c9f536a8769e81193"
  },
  "language_info": {
   "codemirror_mode": {
    "name": "ipython",
    "version": 3
   },
   "file_extension": ".py",
   "mimetype": "text/x-python",
   "name": "python",
   "nbconvert_exporter": "python",
   "pygments_lexer": "ipython3",
   "version": "3.7.4"
  }
 },
 "nbformat": 4,
 "nbformat_minor": 2
}
